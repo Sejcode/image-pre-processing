{
  "nbformat": 4,
  "nbformat_minor": 0,
  "metadata": {
    "colab": {
      "provenance": [],
      "authorship_tag": "ABX9TyMP6fDL7XekWqS8i47A7Gvh",
      "include_colab_link": true
    },
    "kernelspec": {
      "name": "python3",
      "display_name": "Python 3"
    },
    "language_info": {
      "name": "python"
    }
  },
  "cells": [
    {
      "cell_type": "markdown",
      "metadata": {
        "id": "view-in-github",
        "colab_type": "text"
      },
      "source": [
        "<a href=\"https://colab.research.google.com/github/Sejcode/image-pre-processing/blob/main/exp_1A.ipynb\" target=\"_parent\"><img src=\"https://colab.research.google.com/assets/colab-badge.svg\" alt=\"Open In Colab\"/></a>"
      ]
    },
    {
      "cell_type": "code",
      "execution_count": null,
      "metadata": {
        "id": "37ioRXJ2cJmd"
      },
      "outputs": [],
      "source": [
        "# Import the necessary libraries\n",
        "import cv2\n",
        "import numpy as np\n",
        "import matplotlib.pyplot as plt\n",
        "\n",
        "# Load the image\n",
        "image = cv2.imread('/content/Ganeshji (2).webp')\n",
        "\n",
        "# Convert BGR image to RGB\n",
        "image_rgb = cv2.cvtColor(image, cv2.COLOR_BGR2RGB)\n",
        "\n",
        "# Define the scale factor\n",
        "# Increase the size by 3 times\n",
        "scale_factor_1 = 3.0\n",
        "# Decrease the size by 3 times\n",
        "scale_factor_2 = 1/3.0\n",
        "\n",
        "# Get the original image dimensions\n",
        "height, width = image_rgb.shape[:2]\n",
        "\n",
        "# Calculate the new image dimensions\n",
        "new_height = int(height * scale_factor_1)\n",
        "new_width = int(width * scale_factor_1)\n",
        "\n",
        "# Resize the image\n",
        "zoomed_image = cv2.resize(src =image_rgb,\n",
        "                          dsize=(new_width, new_height),\n",
        "                          interpolation=cv2.INTER_CUBIC)\n",
        "\n",
        "# Calculate the new image dimensions\n",
        "new_height1 = int(height * scale_factor_2)\n",
        "new_width1 = int(width * scale_factor_2)\n",
        "\n",
        "# Scaled image\n",
        "scaled_image = cv2.resize(src= image_rgb,\n",
        "                          dsize =(new_width1, new_height1),\n",
        "                          interpolation=cv2.INTER_AREA)\n",
        "\n",
        "# Create subplots\n",
        "fig, axs = plt.subplots(1, 3, figsize=(10, 4))\n",
        "\n",
        "# Plot the original image\n",
        "axs[0].imshow(image_rgb)\n",
        "axs[0].set_title('Original Image Shape:'+str(image_rgb.shape))\n",
        "\n",
        "# Plot the Zoomed Image\n",
        "axs[1].imshow(zoomed_image)\n",
        "axs[1].set_title('Zoomed Image Shape:'+str(zoomed_image.shape))\n",
        "\n",
        "# Plot the Scaled Image\n",
        "axs[2].imshow(scaled_image)\n",
        "axs[2].set_title('Scaled Image Shape:'+str(scaled_image.shape))\n",
        "\n",
        "# Remove ticks from the subplots\n",
        "for ax in axs:\n",
        "    ax.set_xticks([])\n",
        "    ax.set_yticks([])\n",
        "\n",
        "# Display the subplots\n",
        "plt.tight_layout()\n",
        "plt.show()\n"
      ]
    }
  ]
}